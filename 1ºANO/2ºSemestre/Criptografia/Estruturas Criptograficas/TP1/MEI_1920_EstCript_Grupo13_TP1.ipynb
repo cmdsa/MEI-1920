{
 "cells": [
  {
   "cell_type": "markdown",
   "metadata": {},
   "source": [
    "## Ex1 - Diffie-Hellman, com DSA\n",
    "\n",
    "Neste trabalho prático, numa primeira parte, é pretendido construir uma sessão sincrona entre dois agentes, combinando:\n",
    "\n",
    "- um gerador de nounces, sendo que estes têm de ser únicos\n",
    "- uma cifra simétrica AES com autentificação HMAC, sendo que o modo utilizado tem de ser seguro contra ataques ao iv\n",
    "- o protocolo de acordo de chaves Diffie-Hellman com verificação da chave, e autentificação de assinaturas DSA\n",
    "\n",
    "Para tal, primeiro realizamos os imports dos modulos necessários(de notar que para a geração do texto, utilizamos o modulo 'lorem', que poderá ser preciso de instalar, com \"```pip install lorem```\")\n"
   ]
  },
  {
   "cell_type": "code",
   "execution_count": 102,
   "metadata": {},
   "outputs": [],
   "source": [
    "import os, io\n",
    "from BiConn import BiConn\n",
    "from Auxs import hashs, mac, kdf, default_algorithm\n",
    "from cryptography.hazmat.primitives.kdf.pbkdf2 import PBKDF2HMAC\n",
    "from cryptography.hazmat.primitives.ciphers import Cipher, algorithms, modes\n",
    "from cryptography.exceptions import *\n",
    "from cryptography.hazmat.backends import default_backend\n",
    "from cryptography.hazmat.primitives import hashes, hmac, serialization\n",
    "from cryptography.hazmat.primitives.asymmetric import dh, dsa\n",
    "import lorem\n"
   ]
  },
  {
   "cell_type": "markdown",
   "metadata": {},
   "source": [
    "Começamos por gerar os parametros necessários para o acordo de chaves Diffie-Hellman, e para DSA, que serão utilizados para gerar as chaves privadas do Emitter e do Reciever"
   ]
  },
  {
   "cell_type": "code",
   "execution_count": 103,
   "metadata": {},
   "outputs": [],
   "source": [
    "\n",
    "#gerar parametros DH\n",
    "dh_parameters = dh.generate_parameters(generator=2, key_size=1024,backend=default_backend())\n",
    "\n",
    "#gerar parametros DSA\n",
    "dsa_parameters = dsa.generate_parameters(key_size=1024, backend=default_backend())"
   ]
  },
  {
   "cell_type": "markdown",
   "metadata": {},
   "source": [
    "Na função KeyAgree() começamos por gerar as chaves privadas para o Emitter e para o Reciever, sendo claro que cada um usa uma estância da função, e como tal é gerado para cada um chaves distintas.\n",
    "\n",
    "Depois de terem sido criadas as chaves privadas para DH e DSA, geramos uma chave publica apartir das chaves privadas e convertemos para o formato PEM. \n",
    "\n",
    "Utilizamos a chave privada DSA para assinar a mensagem, que neste caso será a chave publica DH e de seguida é enviado a chave publica DSA, a chave publica DH (ambas em formato PEM) e a assinatura, sendo que depois é recebida a informação envada no outro lado da conexão. Verifica-se se a assinatura é valida, e caso seja, é realizado o \"DH handshake\" e verificamos se no outro lado da conexão obteve-se a mesma chave partilhada. Caso seja, returnamos a hash gerada apartir da chave partilhada, que será utilizada como chave para cifrar\n"
   ]
  },
  {
   "cell_type": "code",
   "execution_count": 104,
   "metadata": {},
   "outputs": [],
   "source": [
    "def KeyAgree(conn, name):\n",
    "    #gera chave privada (DH)\n",
    "    dhpk = dh_parameters.generate_private_key()\n",
    "\n",
    "    #gera chave publica (DH, formato PEM)\n",
    "    dhpubkey = dhpk.public_key().public_bytes(\n",
    "            encoding=serialization.Encoding.PEM,\n",
    "            format=serialization.PublicFormat.SubjectPublicKeyInfo)\n",
    "\n",
    "    #gera chave dsa privada\n",
    "    dsapk = dsa_parameters.generate_private_key()\n",
    "\n",
    "    #pem publico dsa\n",
    "    dsapub_pem = dsapk.public_key().public_bytes(\n",
    "        encoding=serialization.Encoding.PEM,\n",
    "        format=serialization.PublicFormat.SubjectPublicKeyInfo)\n",
    "    \n",
    "    #assina a mensagem (assina-se com a chave privada)\n",
    "    sig = dsapk.sign(dhpubkey, default_algorithm())\n",
    "\n",
    "    #envia a chave publica dsa, a chave publica dh e a assinatura\n",
    "    conn.send((dsapub_pem,dhpubkey,sig))\n",
    "\n",
    "    ##recebe a chave publica dsa, a chave publica dh e a assinatura\n",
    "    dsa_pub_recv,dh_pub_recv,sig_recv = conn.recv()\n",
    "\n",
    "    peer_dsa_pub_recv = serialization.load_pem_public_key(\n",
    "            dsa_pub_recv,\n",
    "            backend=default_backend())\n",
    "    #valida a assinatura\n",
    "    try:\n",
    "        peer_dsa_pub_recv.verify(sig_recv,dh_pub_recv,default_algorithm())\n",
    "        print(name +' DSA Signature ok')\n",
    "        # shared_key calculation\n",
    "        peer_dh_pub_key = serialization.load_pem_public_key(\n",
    "                dh_pub_recv,\n",
    "                backend=default_backend())\n",
    "        shared_key = dhpk.exchange(peer_dh_pub_key)\n",
    "\n",
    "        # confirmation\n",
    "        my_tag = hashs(bytes(shared_key))\n",
    "        conn.send(my_tag)\n",
    "        peer_tag = conn.recv()\n",
    "        if my_tag == peer_tag:\n",
    "            print(name + ' DH OK')\n",
    "            return my_tag\n",
    "        else:\n",
    "            print(name + 'DH FAIL')\n",
    "    except InvalidSignature:\n",
    "        print(name + 'DSA Signature fail')\n",
    "\n",
    "    \n",
    "\n",
    "    conn.close()       # fechar a conecção"
   ]
  },
  {
   "cell_type": "markdown",
   "metadata": {},
   "source": [
    "#### Cifra AES no modo CTR\n",
    "\n",
    "Escolhemos o modo CTR porque é considerado criptograficamente forte, mas os outros modos de operação seriam também opções viaveis (como o CFB, CBC, OFB), desde que o IV utilizado seja único e utilizado apenas uma vez.\n",
    "\n",
    "Aqui geramos um iv aleatorio e enviamos para o Reciever,e encriptamos a mensagem com AES (utilizando a hash da chave partilhada como chave de cifragem) no modo CTR, mensagem esta gerada aleatoriamente pelo modulo **lorem**. Depois de encriptar a mensagem, autentificamos (tambem garante integridade) a mensagem com o HMAC, sendo que é enviado para o Reciever a hash e a mensagem criptografada.\n"
   ]
  },
  {
   "cell_type": "code",
   "execution_count": 105,
   "metadata": {},
   "outputs": [],
   "source": [
    "def Emitter(conn):\n",
    "    \n",
    "    key = KeyAgree(conn, \"Emitter\")\n",
    "    iv  = os.urandom(16)\n",
    "\n",
    "  \n",
    "    text = lorem.text().encode('utf-8',\"ignore\")\n",
    "    encryptor = Cipher(algorithms.AES(key),modes.CTR(iv),backend=default_backend()).encryptor()\n",
    "  \n",
    "    conn.send(iv)\n",
    "\n",
    "    encrypttext = encryptor.update(text) + encryptor.finalize()\n",
    "    this_mac = mac(key,encrypttext)\n",
    "\n",
    "    conn.send((this_mac,encrypttext))\n",
    "\n",
    "    conn.close()"
   ]
  },
  {
   "cell_type": "markdown",
   "metadata": {},
   "source": [
    "Por conseguinte, o Receiver vai receber o iv, e juntamente com a hash da chave partilhada vai desencriptar a mensagem encriptada, sendo que primeiramente é verificado a hash do Hmac recebida. Caso seja validada, o processo fica concluido e o texto desencriptado é imprimido no ecrã"
   ]
  },
  {
   "cell_type": "code",
   "execution_count": 106,
   "metadata": {},
   "outputs": [],
   "source": [
    "def Reciever(conn):\n",
    "    \n",
    "    key = KeyAgree(conn,\"Reciever\")\n",
    "\n",
    "    iv = conn.recv()\n",
    "    decryptor = Cipher(algorithms.AES(key),modes.CTR(iv),backend=default_backend()).decryptor()\n",
    "    \n",
    "    peer_mac, peer_msg = conn.recv()\n",
    "    try:\n",
    "        mac(key,peer_msg,peer_mac)\n",
    "        try:\n",
    "            decrypttext = decryptor.update(peer_msg) + decryptor.finalize()\n",
    "            print(decrypttext.decode('utf-8',\"ignore\"))\n",
    "        except InvalidSignature:\n",
    "            print(\"autenticação do ciphertext falhou\")\n",
    "    except InvalidSignature:\n",
    "        print('Hmac didnt match')\n",
    "\n",
    "    \n",
    "    \n",
    "    conn.close()"
   ]
  },
  {
   "cell_type": "code",
   "execution_count": 107,
   "metadata": {},
   "outputs": [
    {
     "name": "stdout",
     "output_type": "stream",
     "text": [
      "Emitter DSA Signature ok\n",
      "Reciever DSA Signature ok\n",
      "Reciever DH OK\n",
      "Emitter DH OK\n",
      "Quaerat etincidunt sit labore. Velit consectetur adipisci sit magnam ipsum. Labore velit quiquia voluptatem tempora quaerat. Porro magnam modi non velit non quiquia aliquam. Magnam adipisci porro ipsum sit numquam. Etincidunt ut sit sed adipisci. Sed etincidunt numquam magnam.\n",
      "\n",
      "Non tempora quaerat sed dolore sed labore sit. Sit quisquam quisquam magnam quiquia modi. Quisquam dolore neque non. Sit ut ut voluptatem tempora dolorem etincidunt. Tempora etincidunt ipsum labore numquam. Quiquia velit aliquam consectetur eius amet. Ut dolor etincidunt sit adipisci consectetur. Numquam sed modi dolorem.\n",
      "\n",
      "Tempora dolor porro est modi tempora. Velit etincidunt dolore est adipisci ipsum. Numquam numquam dolor amet quisquam modi. Tempora etincidunt dolore magnam tempora quaerat sed. Dolor modi consectetur porro dolor sit. Porro numquam velit velit non. Dolor ipsum neque ut. Aliquam ipsum quiquia adipisci sed quaerat. Aliquam tempora ut eius magnam ut.\n"
     ]
    }
   ],
   "source": [
    "BiConn(Emitter,Reciever,timeout=30).auto()"
   ]
  },
  {
   "cell_type": "markdown",
   "metadata": {},
   "source": [
    "## Ex2 - Elliptic-curve Diffie–Hellman, com Elliptic-curve DSA\n",
    "\n",
    "Nesta segunda parte do exercicio, é pedido uma alteração ao exercicio anterior, sendo estas as seguintes:\n",
    "- Utilizar **Elliptic-curve Diffie–Hellman (ECDH)** em vez de **Diffie–Hellman (DH)** e **Elliptic-curve DSA (ECDSA)** em vez de **DSA**\n",
    "- A cifra simétrica por **ChaCha20Poly1305**"
   ]
  },
  {
   "cell_type": "markdown",
   "metadata": {},
   "source": [
    "Os imports necessários:"
   ]
  },
  {
   "cell_type": "code",
   "execution_count": 108,
   "metadata": {},
   "outputs": [],
   "source": [
    "from cryptography.hazmat.backends import default_backend\n",
    "from cryptography.hazmat.primitives import hashes\n",
    "from Auxs import hashs\n",
    "from BiConn import BiConn\n",
    "from cryptography.hazmat.primitives.asymmetric import ec\n",
    "from cryptography.hazmat.primitives import hashes, hmac, cmac, serialization\n",
    "from cryptography.hazmat.primitives.ciphers.aead import ChaCha20Poly1305\n",
    "import os\n",
    "import lorem"
   ]
  },
  {
   "cell_type": "markdown",
   "metadata": {},
   "source": [
    "O funcionamento do programa em si é muito semelhante ao anterior, sendo que o processo nesta função é igual ao anterior, onde:\n",
    "\n",
    "- Geramos as chaves privadas para ECDH e ECDSA, gera-se as chaves publicas e convertemos para formato PEM\n",
    "- Utilizamos a chave privada ECDSA para assinar a mensagem, que será a chave pública ECDH\n",
    "- Envia-se a chave publica do ECDH e ECDSA e a mensagem assinada\n",
    "- Verifica-se se a assinatura é válida, e caso seja, realiza-se o ECDH handshake e verficamos se o outro lado obteve a mesma chave.\n",
    "- Também é retornado a hash gerada apartir da chave partilhada\n"
   ]
  },
  {
   "cell_type": "code",
   "execution_count": 109,
   "metadata": {},
   "outputs": [],
   "source": [
    "def KeyAgree(conn):\n",
    "    \n",
    "\tecdh_private_key = ec.generate_private_key(\n",
    "\t\t\tec.SECP256R1(), default_backend())\n",
    "\t\n",
    "\tecdh_public_key = ecdh_private_key.public_key().public_bytes(\n",
    "\t\t\tencoding=serialization.Encoding.PEM,\n",
    "\t\t\tformat=serialization.PublicFormat.SubjectPublicKeyInfo)\n",
    "\t\n",
    "\tecdsa_private_key = ec.generate_private_key(ec.SECP256R1(), default_backend())\n",
    "\n",
    "\tecdsa_public_key  = ecdsa_private_key.public_key().public_bytes(\n",
    "\t\t\tencoding=serialization.Encoding.PEM,\n",
    "\t\t\tformat=serialization.PublicFormat.SubjectPublicKeyInfo)\n",
    "\t\n",
    "\tsign = ecdsa_private_key.sign(ecdh_public_key, ec.ECDSA(hashes.SHA256()))\n",
    "\n",
    "\tconn.send((ecdsa_public_key,ecdh_public_key,sign))\n",
    "\n",
    "\tecdsa_pub_recv,ecdh_pub_recv,sign_recv = conn.recv()\n",
    "\n",
    "\tpeer_ecdsa_pub_recv = serialization.load_pem_public_key(\n",
    "            ecdsa_pub_recv,\n",
    "            backend=default_backend())\n",
    "\ttry:\n",
    "\t\tpeer_ecdsa_pub_recv.verify(sign_recv, ecdh_pub_recv, ec.ECDSA(hashes.SHA256()))\n",
    "\t\tprint(\"ECDSA Signature OK\")\n",
    "\n",
    "        peer_ecdh_pub_key = serialization.load_pem_public_key(\n",
    "            ecdh_pub_recv,\n",
    "            backend=default_backend())\n",
    "\t    shared_key = ecdh_private_key.exchange(ec.ECDH(),peer_ecdh_pub_key)\n",
    "\n",
    "\t    my_tag = hashs(bytes(shared_key))\n",
    "\t    conn.send(my_tag)\n",
    "\t    peer_tag = conn.recv()\n",
    "\t    if my_tag == peer_tag:\n",
    "\t    \tprint('DH OK')\n",
    "\t    \treturn my_tag\n",
    "\t    else:\n",
    "\t    \tprint('DH FAIL')\n",
    "\texcept InvalidSignature:\n",
    "\t\tprint('ECDSA Signature fail')\n",
    "\t\n",
    "\t\n",
    "\n",
    "\tconn.close()       # fechar a conecção"
   ]
  },
  {
   "cell_type": "markdown",
   "metadata": {},
   "source": [
    "No Emitter, como pedido, é agora utilizado o ChaCha20Poly1305, e a hash da chave partilhada como chave. Geramos um nonce aleatório, que é enviado para o Reciever, e encriptamos a mensagem, que é novamente gerada com o uso do módulo **lorem**\n",
    "\n",
    "A mensagem encriptada é depois enviada para o Reciever."
   ]
  },
  {
   "cell_type": "code",
   "execution_count": 110,
   "metadata": {},
   "outputs": [],
   "source": [
    "def Emitter(conn):\n",
    "\n",
    "\tkey = KeyAgree(conn)\n",
    "\t\n",
    "\tnonce = os.urandom(12)\n",
    "\tconn.send(nonce)\n",
    "\n",
    "\ttext = lorem.text().encode('utf-8',\"ignore\")\n",
    "\taad = b\"authenticated but unencrypted data\"\n",
    "\tconn.send(aad)\n",
    "\tchacha = ChaCha20Poly1305(key)\n",
    "\tct = chacha.encrypt(nonce, text,aad)\n",
    "\tconn.send(ct)"
   ]
  },
  {
   "cell_type": "markdown",
   "metadata": {},
   "source": [
    "O Reciever recebe o nonce, e utilizando a hash da chave partilhada, desencripta a mensagem e imprime no ecrã"
   ]
  },
  {
   "cell_type": "code",
   "execution_count": 111,
   "metadata": {},
   "outputs": [],
   "source": [
    "def Reciever(conn):\n",
    "\tkey = KeyAgree(conn)\n",
    "\tnonce = conn.recv()\n",
    "\tchacha = ChaCha20Poly1305(key)\n",
    "\taad = conn.recv()\n",
    "\tct = conn.recv()\n",
    "\ttry:\n",
    "\t\tdecriptedtext = chacha.decrypt(nonce, ct,aad)\n",
    "\t\tprint(decriptedtext)\n",
    "\texcept InvalidSignature:\n",
    "\t\tprint(\"Decription Failed\")"
   ]
  },
  {
   "cell_type": "code",
   "execution_count": 112,
   "metadata": {},
   "outputs": [
    {
     "name": "stdout",
     "output_type": "stream",
     "text": [
      "ECDSA Signature OK\n",
      "ECDSA Signature OK\n",
      "DH OK\n",
      "DH OK\n",
      "b'Neque ut eius numquam dolore eius. Est magnam velit ut. Quaerat consectetur sed aliquam tempora amet dolorem etincidunt. Ipsum numquam magnam magnam eius. Voluptatem quaerat numquam ut quisquam neque ut. Tempora magnam labore ipsum dolor adipisci neque quaerat. Porro tempora adipisci porro dolor quiquia ut quisquam. Dolorem labore quaerat sed aliquam consectetur adipisci. Magnam ipsum labore voluptatem porro adipisci.\\n\\nDolor magnam sed porro adipisci non. Neque est etincidunt dolor sed modi labore dolorem. Ipsum voluptatem velit magnam. Amet quiquia eius etincidunt. Quiquia labore magnam voluptatem consectetur adipisci quaerat. Adipisci consectetur etincidunt ut tempora consectetur sit. Quiquia modi voluptatem sed numquam aliquam consectetur quaerat. Quaerat non quisquam labore etincidunt sit. Velit dolorem porro quisquam quaerat dolorem aliquam. Quiquia sed aliquam dolorem neque amet.\\n\\nUt quiquia dolor est magnam. Dolore dolore labore consectetur voluptatem. Amet tempora modi amet adipisci. Consectetur tempora adipisci voluptatem adipisci aliquam. Sed quiquia quaerat modi. Tempora sit est eius modi etincidunt aliquam. Dolorem quisquam magnam sit. Neque tempora quisquam porro magnam labore neque.\\n\\nEst porro numquam adipisci dolorem amet ut velit. Velit est ut consectetur sit quisquam amet est. Amet numquam porro quaerat numquam consectetur ipsum numquam. Adipisci tempora labore dolore porro. Quiquia dolorem velit quisquam etincidunt.\\n\\nNeque modi dolor voluptatem. Numquam dolor velit labore labore. Amet etincidunt aliquam neque sit etincidunt. Adipisci aliquam sed ut. Adipisci dolor amet voluptatem voluptatem velit. Ut eius neque ut amet modi.'\n"
     ]
    }
   ],
   "source": [
    "BiConn(Emitter,Reciever,timeout=30).auto()"
   ]
  }
 ],
 "metadata": {
  "file_extension": ".py",
  "kernelspec": {
   "display_name": "Python 3",
   "language": "python",
   "name": "python3"
  },
  "language_info": {
   "codemirror_mode": {
    "name": "ipython",
    "version": 3
   },
   "file_extension": ".py",
   "mimetype": "text/x-python",
   "name": "python",
   "nbconvert_exporter": "python",
   "pygments_lexer": "ipython3",
   "version": "3.6.9"
  },
  "mimetype": "text/x-python",
  "name": "python",
  "npconvert_exporter": "python",
  "pygments_lexer": "ipython2",
  "version": 2
 },
 "nbformat": 4,
 "nbformat_minor": 2
}
